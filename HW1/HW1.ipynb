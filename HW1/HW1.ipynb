{
 "cells": [
  {
   "cell_type": "markdown",
   "metadata": {},
   "source": [
    "# EE634 HW1 \n",
    "### Kutay Ugurlu"
   ]
  },
  {
   "cell_type": "code",
   "execution_count": 2,
   "metadata": {},
   "outputs": [],
   "source": [
    "import numpy as np \n",
    "from scipy.fft import fft, fft2, ifft2, fftshift\n",
    "from scipy.signal import convolve2d\n",
    "from matplotlib import pyplot as plt\n"
   ]
  },
  {
   "cell_type": "markdown",
   "metadata": {},
   "source": [
    "## Q1a"
   ]
  },
  {
   "cell_type": "markdown",
   "metadata": {},
   "source": [
    "$$x(n_1,n_2) = \\begin{bmatrix} 1 & 1\\\\  1 & 1 \\end{bmatrix}$$\n",
    "$$x\\ast h(n_1,n_2) = \\begin{bmatrix} 0 & \\frac{1}{4} & \\frac{1}{4} & 0 \\\\  \\frac{1}{4} & 1 & 1 & \\frac{1}{4} \\\\ \\frac{1}{4} & 1 & 1 & \\frac{1}{4} \\\\ 0 & \\frac{1}{4} & \\frac{1}{4} & 0 \\end{bmatrix}$$\n",
    "\n",
    "Using the linear convolutions dimension expression one can conclude that the filter is $3\\times 3$. So let $$h(-n_1,-n_2) = \\begin{bmatrix} a & b & c \\\\  d & e & f \\\\ g & h & i \\end{bmatrix}$$ \n",
    "\n",
    "Using the corner elements, one can deduce that the corner elements of the filter is 0. \n",
    "With this configuration: \n",
    "* $i = 0$\n",
    "* $h + i = \\frac{1}{4} \\implies h = \\frac{1}{4}$\n",
    "* $g + h = \\frac{1}{4} \\implies g = 0$\n",
    "* $f + i = \\frac{1}{4} \\implies f = \\frac{1}{4}$\n",
    "* $e + h + f + i = 1 \\implies e = \\frac{1}{2}$\n",
    "* $d + g + e + h = 1 \\implies d = \\frac{1}{4}$ <br/> $\\vdots$\n",
    "\n",
    "By using the symmetry in input and output, one can also conclude that: <br/>\n",
    "* $a = c = 0$\n",
    "* b = $\\frac{1}{4}$\n",
    "\n",
    "<br/>\n",
    "\n",
    "Hence $$h(n_1,n_2) = \\begin{bmatrix} 0 & \\frac{1}{4} & 0 \\\\  \\frac{1}{4} & \\frac{1}{2} & \\frac{1}{4} \\\\ 0 & \\frac{1}{4} & 0 \\end{bmatrix}$$\n",
    "\n"
   ]
  },
  {
   "cell_type": "code",
   "execution_count": 3,
   "metadata": {},
   "outputs": [
    {
     "data": {
      "image/png": "[encoded data removed]",
      "text/plain": [
       "<Figure size 1440x5760 with 4 Axes>"
      ]
     },
     "metadata": {
      "needs_background": "light"
     },
     "output_type": "display_data"
    }
   ],
   "source": [
    "x = np.zeros((8,8))\n",
    "x[3:5,3:5] = 1\n",
    "y = np.zeros_like(x)\n",
    "y[2:6,2:6] = np.array([[0,.25,.25,0],[.25,1,1,.25],[.25,1,1,.25],[0,.25,.25,0]])\n",
    "h = np.zeros_like(x)\n",
    "h[3:6,3:6] = np.array([[0,.25,0],[.25,.5,.25],[0,.25,0]])\n",
    "y_prime = np.abs(fftshift(ifft2(fft2(x)*fft2(h))))\n",
    "fsize = 40\n",
    "plt.figure(figsize=(20,80))\n",
    "plt.subplot(1,4,1)\n",
    "plt.imshow(np.abs(x))\n",
    "plt.title('X',fontsize=fsize)\n",
    "plt.set_cmap(cmap=\"gray\")\n",
    "plt.subplot(1,4,2)\n",
    "plt.imshow(np.abs(y))\n",
    "plt.title('Y',fontsize=fsize)\n",
    "plt.set_cmap(cmap=\"gray\")\n",
    "plt.subplot(1,4,3)\n",
    "plt.imshow(np.abs(h))\n",
    "plt.title('H',fontsize=fsize)\n",
    "plt.set_cmap(cmap=\"gray\")\n",
    "plt.subplot(1,4,4)\n",
    "plt.imshow(y_prime)\n",
    "plt.title(r'H $\\ast$ X',fontsize=fsize)\n",
    "plt.set_cmap(cmap=\"gray\")"
   ]
  },
  {
   "cell_type": "markdown",
   "metadata": {},
   "source": [
    "# Q1b"
   ]
  },
  {
   "cell_type": "code",
   "execution_count": 4,
   "metadata": {},
   "outputs": [
    {
     "data": {
      "text/plain": [
       "0.0"
      ]
     },
     "execution_count": 4,
     "metadata": {},
     "output_type": "execute_result"
    }
   ],
   "source": [
    "np.linalg.det(h)"
   ]
  },
  {
   "cell_type": "code",
   "execution_count": null,
   "metadata": {},
   "outputs": [],
   "source": []
  }
 ],
 "metadata": {
  "kernelspec": {
   "display_name": "Python 3.9.6 64-bit",
   "language": "python",
   "name": "python3"
  },
  "language_info": {
   "codemirror_mode": {
    "name": "ipython",
    "version": 3
   },
   "file_extension": ".py",
   "mimetype": "text/x-python",
   "name": "python",
   "nbconvert_exporter": "python",
   "pygments_lexer": "ipython3",
   "version": "3.9.6"
  },
  "orig_nbformat": 4,
  "vscode": {
   "interpreter": {
    "hash": "8f1d1ba53b970a394475cc94e60b90fcc5d10e37a50a96b6c5485e3a6721ded6"
   }
  }
 },
 "nbformat": 4,
 "nbformat_minor": 2
}
