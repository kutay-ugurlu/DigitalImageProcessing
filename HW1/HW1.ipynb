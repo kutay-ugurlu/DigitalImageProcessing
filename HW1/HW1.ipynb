{
 "cells": [
  {
   "cell_type": "markdown",
   "metadata": {},
   "source": [
    "# EE634 HW1 \n",
    "### Kutay Ugurlu"
   ]
  },
  {
   "cell_type": "code",
   "execution_count": 55,
   "metadata": {},
   "outputs": [],
   "source": [
    "import numpy as np \n",
    "from scipy.fft import fft, fft2, ifft2, fftshift\n",
    "from scipy.signal import convolve2d\n",
    "from matplotlib import pyplot as plt\n",
    "from numpy import pi as pi \n"
   ]
  },
  {
   "cell_type": "markdown",
   "metadata": {},
   "source": [
    "## Q1a"
   ]
  },
  {
   "cell_type": "markdown",
   "metadata": {},
   "source": [
    "$$x(n_1,n_2) = \\begin{bmatrix} 1 & 1\\\\  1 & 1 \\end{bmatrix}$$\n",
    "$$x\\ast h(n_1,n_2) = \\begin{bmatrix} 0 & \\frac{1}{4} & \\frac{1}{4} & 0 \\\\  \\frac{1}{4} & 1 & 1 & \\frac{1}{4} \\\\ \\frac{1}{4} & 1 & 1 & \\frac{1}{4} \\\\ 0 & \\frac{1}{4} & \\frac{1}{4} & 0 \\end{bmatrix}$$\n",
    "\n",
    "Using the linear convolutions dimension expression one can conclude that the filter is $3\\times 3$. So let $$h(-n_1,-n_2) = \\begin{bmatrix} a & b & c \\\\  d & e & f \\\\ g & h & i \\end{bmatrix}$$ \n",
    "\n",
    "Using the corner elements, one can deduce that the corner elements of the filter is 0. \n",
    "With this configuration: \n",
    "* $i = 0$\n",
    "* $h + i = \\frac{1}{4} \\implies h = \\frac{1}{4}$\n",
    "* $g + h = \\frac{1}{4} \\implies g = 0$\n",
    "* $f + i = \\frac{1}{4} \\implies f = \\frac{1}{4}$\n",
    "* $e + h + f + i = 1 \\implies e = \\frac{1}{2}$\n",
    "* $d + g + e + h = 1 \\implies d = \\frac{1}{4}$ <br/> $\\vdots$\n",
    "\n",
    "By using the symmetry in input and output, one can also conclude that: <br/>\n",
    "* $a = c = 0$\n",
    "* b = $\\frac{1}{4}$\n",
    "\n",
    "<br/>\n",
    "\n",
    "Hence $$h(n_1,n_2) = \\begin{bmatrix} 0 & \\frac{1}{4} & 0 \\\\  \\frac{1}{4} & \\frac{1}{2} & \\frac{1}{4} \\\\ 0 & \\frac{1}{4} & 0 \\end{bmatrix}$$\n",
    "\n"
   ]
  },
  {
   "cell_type": "code",
   "execution_count": 52,
   "metadata": {},
   "outputs": [
    {
     "name": "stdout",
     "output_type": "stream",
     "text": [
      "Resultant convolution matches the given.\n"
     ]
    },
    {
     "data": {
      "image/png": "[encoded data removed]",
      "text/plain": [
       "<Figure size 1440x5760 with 4 Axes>"
      ]
     },
     "metadata": {
      "needs_background": "light"
     },
     "output_type": "display_data"
    }
   ],
   "source": [
    "x = np.zeros((8,8))\n",
    "x[3:5,3:5] = 1\n",
    "y = np.zeros_like(x)\n",
    "y[2:6,2:6] = np.array([[0,.25,.25,0],[.25,1,1,.25],[.25,1,1,.25],[0,.25,.25,0]])\n",
    "h = np.zeros_like(x)\n",
    "h[3:6,3:6] = np.array([[0,.25,0],[.25,.5,.25],[0,.25,0]])\n",
    "y_prime = np.abs(fftshift(ifft2(fft2(x)*fft2(h))))\n",
    "fsize = 40\n",
    "plt.figure(figsize=(20,80))\n",
    "plt.subplot(1,4,1)\n",
    "plt.imshow(np.abs(x))\n",
    "plt.title('X',fontsize=fsize)\n",
    "plt.set_cmap(cmap=\"gray\")\n",
    "plt.subplot(1,4,2)\n",
    "plt.imshow(np.abs(y))\n",
    "plt.title('Y',fontsize=fsize)\n",
    "plt.set_cmap(cmap=\"gray\")\n",
    "plt.subplot(1,4,3)\n",
    "plt.imshow(np.abs(h))\n",
    "plt.title('H',fontsize=fsize)\n",
    "plt.set_cmap(cmap=\"gray\")\n",
    "plt.subplot(1,4,4)\n",
    "plt.imshow(y_prime)\n",
    "plt.title(r'H $\\ast$ X',fontsize=fsize)\n",
    "plt.set_cmap(cmap=\"gray\")\n",
    "assert np.isclose(np.sum(y_prime-y),0)\n",
    "print(\"Resultant convolution matches the given.\")"
   ]
  },
  {
   "cell_type": "markdown",
   "metadata": {},
   "source": [
    "# Q1b"
   ]
  },
  {
   "cell_type": "code",
   "execution_count": 7,
   "metadata": {},
   "outputs": [
    {
     "data": {
      "text/plain": [
       "array([[0.  , 0.25, 0.  ],\n",
       "       [0.25, 0.5 , 0.25],\n",
       "       [0.  , 0.25, 0.  ]])"
      ]
     },
     "execution_count": 7,
     "metadata": {},
     "output_type": "execute_result"
    }
   ],
   "source": [
    "H = h[3:6,3:6]\n",
    "H"
   ]
  },
  {
   "cell_type": "code",
   "execution_count": 37,
   "metadata": {},
   "outputs": [
    {
     "data": {
      "text/plain": [
       "array([6.83012702e-01, 1.83012702e-01, 1.27795495e-17])"
      ]
     },
     "execution_count": 37,
     "metadata": {},
     "output_type": "execute_result"
    }
   ],
   "source": [
    "u = np.linalg.svd(H)\n",
    "singular_values = u[1]\n",
    "singular_values"
   ]
  },
  {
   "cell_type": "markdown",
   "metadata": {},
   "source": [
    "## As can be seen above, we have 3 distinct singular values for the convolution kernel. For a kernel to be separable, it should be expressed as one outer product. However, when we use the SVD to decompose the matrix into outer products, we see that it has two nonzero singular values. One separable filter example can be seen below. The kernel is defined as an outer product and it has only one nonzero singular value. "
   ]
  },
  {
   "cell_type": "code",
   "execution_count": 47,
   "metadata": {},
   "outputs": [
    {
     "name": "stdout",
     "output_type": "stream",
     "text": [
      "[1.83500000e+04 4.99795260e-13 1.52124936e-13]\n"
     ]
    },
    {
     "data": {
      "text/plain": [
       "<matplotlib.image.AxesImage at 0x27927b7bb50>"
      ]
     },
     "execution_count": 47,
     "metadata": {},
     "output_type": "execute_result"
    },
    {
     "data": {
      "image/png": "[encoded data removed]",
      "text/plain": [
       "<Figure size 432x288 with 1 Axes>"
      ]
     },
     "metadata": {
      "needs_background": "light"
     },
     "output_type": "display_data"
    }
   ],
   "source": [
    "a = np.random.randint(0,100,(3,1))\n",
    "b = np.outer(a,a)\n",
    "u = np.linalg.svd(b)\n",
    "singular_values = u[1]\n",
    "print(singular_values)\n",
    "plt.imshow(b)"
   ]
  },
  {
   "cell_type": "markdown",
   "metadata": {},
   "source": [
    "# Q1c\n",
    "\n",
    "$\\begin{align} \n",
    "H(w_1,w_2) &= \\sum\\limits_{n_1=0}^2\\sum\\limits_{n_2=0}^2 h(n_1,n_2) e^{-jw_1n_1} e^{-jw_2n_2} \\\\ \n",
    " &= \\frac{1}{4}(e^{-jw_1}+e^{-jw_2}+e^{-jw_1}e^{-j2w_2}+e^{-j2w_1}e^{-jw_2}) + \\frac{1}{4}(e^{-jw_1}e^{-jw_2}) \\nonumber\\\\\n",
    " &= \\frac{1}{4}e^{-jw_1}(1+e^{-j2w_2}) + \\frac{1}{4}e^{-jw_2}(1+e^{-j2w_1}) + \\frac{1}{2}(e^{-jw_1}e^{-jw_2}) \\nonumber\\\\\n",
    " &= \\frac{1}{4}e^{-jw_1}e^{-jw_2}(cos(\\frac{w_1}{2})+cos(\\frac{w_2}{2})) + \\frac{1}{2} e^{-jw_1}e^{-jw_2} \\nonumber\\\\\n",
    "\\end{align}$\n",
    "$$\\implies |H(w1,w2)| = \\frac{1}{2} + cos(\\frac{w_1}{2})+cos(\\frac{w_2}{2})$$\n",
    "<br/> This filter acts as low pass filter, since its magnitude have higher values around the origin. "
   ]
  },
  {
   "cell_type": "markdown",
   "metadata": {},
   "source": [
    "# Q2c\n",
    "$\\begin{align} \n",
    "H(k_1,k_2) &= \\sum\\limits_{n_1=0}^2\\sum\\limits_{n_2=0}^2 h(n_1,n_2) e^{-j{\\frac{2\\pi}{N_1}}k_1n_1} e^{-j{\\frac{2\\pi}{N_2}}k_2n_2} \\\\ \n",
    "\\end{align}$\n",
    "<br/> Since image has n1-n2 symmetry, its DFT has k1-k2 symmetry in the frequency domain, _i.e._ $H(k_1,k_2) = H(k_2,k_1)$\n",
    "\n",
    "$\\begin{align} \n",
    "H(0,0) &= \\sum\\limits_{n_1=0}^2\\sum\\limits_{n_2=0}^2 h(n_1,n_2)  = 1.5 \\tag{1}\\\\ \n",
    "H(1,0) &= \\sum\\limits_{n_1=0}^2\\sum\\limits_{n_2=0}^2 h(n_1,n_2) e^{-j{\\frac{2\\pi n_1}{3}}} \\tag{2}\\\\ \n",
    "&= (h(0,1)+h(0,2)+h(0,3)) + (h(1,0)+h(1,1)+h(1,2))e^{-j\\frac{2\\pi}{3}} + (h(2,1)+h(2,2)+h(3,2))e^{-j\\frac{4\\pi}{3}} \\nonumber\\\\\n",
    "&= \\frac{1}{4} + e^{-j\\frac{2\\pi}{3}} + \\frac{1}{4}e^{-j\\frac{4\\pi}{3}} \\nonumber\\\\\n",
    "H(0,1) &= H(1,0) \\tag{3}\\\\\n",
    "H(2,0) &= \\sum\\limits_{n_1=0}^2\\sum\\limits_{n_2=0}^2 h(n_1,n_2) e^{-j{\\frac{4\\pi n_1}{3}}} \\tag{4}\\\\ \n",
    "&= (h(0,1)+h(0,2)+h(0,3)) + (h(1,0)+h(1,1)+h(1,2))e^{-j\\frac{4\\pi}{3}} + (h(2,1)+h(2,2)+h(3,2))e^{-j\\frac{8\\pi}{3}} \\nonumber\\\\\n",
    "&= \\frac{1}{4} + e^{-j\\frac{4\\pi}{3}} + \\frac{1}{4}e^{-j\\frac{2\\pi}{3}} \\nonumber\\\\\n",
    "H(0,2) &= H(2,0) \\tag{5}\\\\\n",
    "H(1,1) &= \\sum\\limits_{n_1=0}^2\\sum\\limits_{n_2=0}^2 h(n_1,n_2) e^{-j{\\frac{2\\pi (n_1+n_2)}{3}}} \\tag{6}\\\\ \n",
    "&= \\sum\\limits_{n_2=0}^2 e^{-j{\\frac{2\\pi}{3}}}  \\left( h(0,n_2) + h(1,n_2) e^{-j{\\frac{2\\pi}{3}}} + h(2,n_2) e^{-j{\\frac{4\\pi}{3}}} \\right) \\nonumber \\\\\n",
    "H(2,2) &= \\sum\\limits_{n_1=0}^2\\sum\\limits_{n_2=0}^2 h(n_1,n_2) e^{-j{\\frac{2\\pi (2n_1+2n_2)}{3}}} \\tag{7}\\\\ \n",
    "&= \\sum\\limits_{n_2=0}^2 e^{-j{\\frac{4\\pi}{3}}}  \\left( h(0,n_2) + h(1,n_2) e^{-j{\\frac{2\\pi}{3}}} + h(2,n_2) e^{-j{\\frac{4\\pi}{3}}} \\right) \\nonumber \\\\\n",
    "&= \n",
    "\\end{align}$\n"
   ]
  },
  {
   "cell_type": "code",
   "execution_count": 48,
   "metadata": {},
   "outputs": [
    {
     "data": {
      "text/plain": [
       "array([[ 1.5  -0.j        , -0.375-0.64951905j, -0.375+0.64951905j],\n",
       "       [-0.375-0.64951905j,  0.   +0.j        ,  0.   -0.j        ],\n",
       "       [-0.375+0.64951905j,  0.   +0.j        ,  0.   -0.j        ]])"
      ]
     },
     "execution_count": 48,
     "metadata": {},
     "output_type": "execute_result"
    }
   ],
   "source": [
    "fft2(H)"
   ]
  },
  {
   "cell_type": "code",
   "execution_count": 57,
   "metadata": {},
   "outputs": [
    {
     "data": {
      "text/plain": [
       "(-0.3750000000000004+0.6495190528383288j)"
      ]
     },
     "execution_count": 57,
     "metadata": {},
     "output_type": "execute_result"
    }
   ],
   "source": [
    "(0.25 + 1*np.exp(-1j*4*pi/3) + 0.25*np.exp(-1j*2*pi/3))"
   ]
  },
  {
   "cell_type": "code",
   "execution_count": null,
   "metadata": {},
   "outputs": [],
   "source": []
  }
 ],
 "metadata": {
  "kernelspec": {
   "display_name": "Python 3.9.6 64-bit",
   "language": "python",
   "name": "python3"
  },
  "language_info": {
   "codemirror_mode": {
    "name": "ipython",
    "version": 3
   },
   "file_extension": ".py",
   "mimetype": "text/x-python",
   "name": "python",
   "nbconvert_exporter": "python",
   "pygments_lexer": "ipython3",
   "version": "3.9.6"
  },
  "orig_nbformat": 4,
  "vscode": {
   "interpreter": {
    "hash": "8f1d1ba53b970a394475cc94e60b90fcc5d10e37a50a96b6c5485e3a6721ded6"
   }
  }
 },
 "nbformat": 4,
 "nbformat_minor": 2
}
