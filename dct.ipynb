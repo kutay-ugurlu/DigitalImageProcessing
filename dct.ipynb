{
 "cells": [
  {
   "cell_type": "code",
   "execution_count": 1,
   "metadata": {},
   "outputs": [],
   "source": [
    "import numpy as np \n",
    "from scipy.fftpack import dct, fft\n"
   ]
  },
  {
   "cell_type": "code",
   "execution_count": 2,
   "metadata": {},
   "outputs": [],
   "source": [
    "def mydct(x):\n",
    "    if len(x.shape) == 1:\n",
    "        x = np.reshape(x,(1,x.shape[0])) \n",
    "    N = x.shape[1]\n",
    "    y = np.hstack((x,np.flip(x)))\n",
    "    Y = fft(y)\n",
    "    k = np.arange(0,N)\n",
    "    W = np.exp(-1j*(np.pi)/N*k/2)\n",
    "    Y_truncated = Y[:,0:N]\n",
    "    Cx = W*(Y_truncated)\n",
    "    return np.real(Cx)"
   ]
  },
  {
   "cell_type": "code",
   "execution_count": 4,
   "metadata": {},
   "outputs": [
    {
     "name": "stdout",
     "output_type": "stream",
     "text": [
      "All tests have successfully completed.\n"
     ]
    }
   ],
   "source": [
    "## TEST ##\n",
    "for _ in range(50):\n",
    "    x = np.random.randint(0,10,(20,20))\n",
    "    assert np.isclose(np.sum(mydct(x)-dct(x,type=2)),0) ## Sum their difference, compare it to zero \n",
    "print(\"All tests have successfully completed.\")"
   ]
  },
  {
   "cell_type": "code",
   "execution_count": null,
   "metadata": {},
   "outputs": [],
   "source": []
  }
 ],
 "metadata": {
  "kernelspec": {
   "display_name": "Python 3.9.6 64-bit",
   "language": "python",
   "name": "python3"
  },
  "language_info": {
   "codemirror_mode": {
    "name": "ipython",
    "version": 3
   },
   "file_extension": ".py",
   "mimetype": "text/x-python",
   "name": "python",
   "nbconvert_exporter": "python",
   "pygments_lexer": "ipython3",
   "version": "3.9.6"
  },
  "orig_nbformat": 4,
  "vscode": {
   "interpreter": {
    "hash": "8f1d1ba53b970a394475cc94e60b90fcc5d10e37a50a96b6c5485e3a6721ded6"
   }
  }
 },
 "nbformat": 4,
 "nbformat_minor": 2
}
